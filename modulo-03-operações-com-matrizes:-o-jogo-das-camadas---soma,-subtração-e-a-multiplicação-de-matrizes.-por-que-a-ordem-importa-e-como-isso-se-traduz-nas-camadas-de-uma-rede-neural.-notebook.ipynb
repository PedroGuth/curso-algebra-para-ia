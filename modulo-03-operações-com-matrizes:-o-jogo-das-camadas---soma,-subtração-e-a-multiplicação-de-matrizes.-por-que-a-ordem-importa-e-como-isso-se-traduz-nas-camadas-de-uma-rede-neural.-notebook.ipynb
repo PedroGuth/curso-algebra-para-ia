{
  "nbformat": 4,
  "nbformat_minor": 0,
  "metadata": {
    "colab": {
      "provenance": []
    },
    "kernelspec": {
      "name": "python3",
      "display_name": "Python 3"
    },
    "language_info": {
      "name": "python"
    }
  },
  "cells": [
    {
      "cell_type": "markdown",
      "metadata": {
        "id": "title"
      },
      "source": [
        "# 🎯 Operações com Matrizes: O Jogo das Camadas\n\n## *Módulo 3: Soma, Subtração e Multiplicação - Por que a Ordem Importa nas Redes Neurais*\n\n![](/Users/pedroguth/Downloads/Projetos/Book Maker/5-Imagens/algebra-linear-para-ia-modulo-03_img_01.png)\n\n---\n\n**Opa, pessoal! 👋 Pedro Guth aqui!**\n\nLembra quando falamos sobre vetores no módulo anterior? Tá, mas e quando a coisa fica mais complexa? Quando temos **múltiplas dimensões** trabalhando juntas?\n\nÉ aí que entram as **operações com matrizes** - o verdadeiro coração de qualquer rede neural! \n\nPensa assim: se um vetor é como uma **fila de pessoas**, uma matriz é como um **prédio inteiro** com várias fileiras. E quando esses \"prédios\" se encontram... aí que a mágica acontece! ✨"
      ]
    },
    {
      "cell_type": "code",
      "metadata": {
        "id": "imports"
      },
      "source": [
        "# Bora configurar nosso ambiente!\n",
        "import numpy as np\n",
        "import matplotlib.pyplot as plt\n",
        "import seaborn as sns\n",
        "from matplotlib.patches import Rectangle\n",
        "import warnings\n",
        "warnings.filterwarnings('ignore')\n",
        "\n",
        "# Configuração dos gráficos - deixa mais lindo!\n",
        "plt.style.use('seaborn-v0_8')\n",
        "sns.set_palette(\"husl\")\n",
        "plt.rcParams['figure.figsize'] = (10, 6)\n",
        "plt.rcParams['font.size'] = 12\n",
        "\n",
        "print(\"🚀 Ambiente configurado! Bora pro jogo das matrizes!\")"
      ],
      "execution_count": null,
      "outputs": []
    },
    {
      "cell_type": "markdown",
      "metadata": {
        "id": "intro_theory"
      },
      "source": [
        "## 🧠 Por que Matrizes são o Coração das Redes Neurais?\n\nTá, mas vamos começar do básico. Lembra dos vetores que vimos no **Módulo 2**? \n\nUma **matriz** nada mais é que uma **coleção organizada de vetores**! É como se fosse um **arquivo Excel** onde cada linha ou coluna representa informações diferentes.\n\n### 📊 A Anatomia de uma Matriz\n\nUma matriz $A$ de dimensões $m \\times n$ tem esta cara:\n\n$$A = \\begin{bmatrix}\na_{11} & a_{12} & \\cdots & a_{1n} \\\\\na_{21} & a_{22} & \\cdots & a_{2n} \\\\\n\\vdots & \\vdots & \\ddots & \\vdots \\\\\na_{m1} & a_{m2} & \\cdots & a_{mn}\n\\end{bmatrix}$$\n\nOnde:\n- $m$ = número de **linhas** (quantas \"fileiras\" temos)\n- $n$ = número de **colunas** (quantas \"posições\" em cada fileira)\n- $a_{ij}$ = elemento na posição linha $i$, coluna $j$\n\n### 🎯 Conexão com Redes Neurais\n\nEm uma rede neural:\n- **Cada linha** pode representar um **neurônio**\n- **Cada coluna** pode representar uma **conexão** com a camada anterior\n- **Cada elemento** $a_{ij}$ é o **peso** da conexão entre neurônio $i$ e entrada $j$\n\n![](/Users/pedroguth/Downloads/Projetos/Book Maker/5-Imagens/algebra-linear-para-ia-modulo-03_img_02.png)\n\n**🔥 Dica do Pedro**: Sempre pense em matrizes como **transformações**. Elas pegam um conjunto de dados de entrada e **transformam** em algo novo!"
      ]
    },
    {
      "cell_type": "code",
      "metadata": {
        "id": "basic_matrices"
      },
      "source": [
        "# Vamos criar nossas primeiras matrizes!\n",
        "print(\"🏗️ Construindo nossas matrizes exemplo\")\n",
        "print(\"=\"*50)\n",
        "\n",
        "# Matriz A - Vamos imaginar que são os pesos de 3 neurônios conectados a 4 entradas\n",
        "A = np.array([[1, 2, 3, 4],\n",
        "              [5, 6, 7, 8],\n",
        "              [9, 10, 11, 12]])\n",
        "\n",
        "# Matriz B - Outra camada com as mesmas dimensões\n",
        "B = np.array([[2, 1, 4, 3],\n",
        "              [6, 5, 8, 7],\n",
        "              [10, 9, 12, 11]])\n",
        "\n",
        "print(f\"Matriz A (3×4):\")\n",
        "print(A)\n",
        "print(f\"\\nDimensões de A: {A.shape}\")\n",
        "\n",
        "print(f\"\\nMatriz B (3×4):\")\n",
        "print(B)\n",
        "print(f\"\\nDimensões de B: {B.shape}\")\n",
        "\n",
        "print(\"\\n💡 Pensa assim: cada linha é um neurônio, cada coluna uma conexão!\")"
      ],
      "execution_count": null,
      "outputs": []
    },
    {
      "cell_type": "markdown",
      "metadata": {
        "id": "matrix_addition"
      },
      "source": [
        "## ➕ Soma de Matrizes: Quando os Neurônios Se Juntam\n\nA soma de matrizes é **moleza**! É como somar **posição por posição**, tipo quando você junta duas turmas de alunos nas mesmas carteiras.\n\n### 📐 A Matemática por Trás\n\nPara duas matrizes $A$ e $B$ de **mesmas dimensões** $m \\times n$:\n\n$$C = A + B \\quad \\text{onde} \\quad c_{ij} = a_{ij} + b_{ij}$$\n\n**IMPORTANTE**: Só podemos somar matrizes que têm **exatamente as mesmas dimensões**!\n\n### 🧠 Na Prática das Redes Neurais\n\nA soma aparece principalmente quando:\n- **Adicionamos bias** aos neurônios\n- **Combinamos gradientes** durante o backpropagation\n- **Fazemos ensemble** de diferentes redes\n\n![](/Users/pedroguth/Downloads/Projetos/Book Maker/5-Imagens/algebra-linear-para-ia-modulo-03_img_03.png)\n\n**🔥 Dica do Pedro**: A soma é **comutativa** ($A + B = B + A$) e **associativa** ($A + (B + C) = (A + B) + C$). Matemática linda, né?"
      ]
    },
    {
      "cell_type": "code",
      "metadata": {
        "id": "matrix_addition_code"
      },
      "source": [
        "# Bora somar nossas matrizes!\n",
        "print(\"➕ SOMA DE MATRIZES - O Encontro dos Neurônios\")\n",
        "print(\"=\"*50)\n",
        "\n",
        "# Soma elemento por elemento\n",
        "C_soma = A + B\n",
        "\n",
        "print(\"Matriz A:\")\n",
        "print(A)\n",
        "print(\"\\nMatriz B:\")\n",
        "print(B)\n",
        "print(\"\\nA + B =\")\n",
        "print(C_soma)\n",
        "\n",
        "# Vamos verificar posição por posição\n",
        "print(\"\\n🔍 Verificando algumas posições:\")\n",
        "print(f\"A[0,0] + B[0,0] = {A[0,0]} + {B[0,0]} = {C_soma[0,0]}\")\n",
        "print(f\"A[1,2] + B[1,2] = {A[1,2]} + {B[1,2]} = {C_soma[1,2]}\")\n",
        "print(f\"A[2,3] + B[2,3] = {A[2,3]} + {B[2,3]} = {C_soma[2,3]}\")\n",
        "\n",
        "# Testando propriedades\n",
        "print(\"\\n🧮 Testando propriedades matemáticas:\")\n",
        "print(f\"A + B = B + A? {np.array_equal(A + B, B + A)}\")\n",
        "print(\"Comutatividade confirmada! 🎉\")"
      ],
      "execution_count": null,
      "outputs": []
    },
    {
      "cell_type": "markdown",
      "metadata": {
        "id": "matrix_subtraction"
      },
      "source": [
        "## ➖ Subtração de Matrizes: A Diferença que Faz Diferença\n\nA subtração funciona **igualzinho** à soma, só que... subtraindo! 😄\n\n### 📐 Fórmula Matemática\n\n$$D = A - B \\quad \\text{onde} \\quad d_{ij} = a_{ij} - b_{ij}$$\n\n### 🎯 Onde Usamos na IA\n\n- **Cálculo de gradientes**: diferença entre pesos atuais e anteriores\n- **Função de perda**: diferença entre predição e valor real\n- **Regularização**: penalizando pesos muito grandes\n\n**🔥 Dica do Pedro**: Ao contrário da soma, a subtração **NÃO é comutativa**! $A - B \\neq B - A$ (na verdade, $A - B = -(B - A)$)"
      ]
    },
    {
      "cell_type": "code",
      "metadata": {
        "id": "matrix_subtraction_code"
      },
      "source": [
        "# Agora vamos subtrair!\n",
        "print(\"➖ SUBTRAÇÃO DE MATRIZES - Encontrando as Diferenças\")\n",
        "print(\"=\"*50)\n",
        "\n",
        "C_sub = A - B\n",
        "\n",
        "print(\"A - B =\")\n",
        "print(C_sub)\n",
        "\n",
        "print(\"\\nB - A =\")\n",
        "print(B - A)\n",
        "\n",
        "print(\"\\n🔍 Verificando que não é comutativa:\")\n",
        "print(f\"A - B = B - A? {np.array_equal(A - B, B - A)}\")\n",
        "print(f\"Mas A - B = -(B - A)? {np.array_equal(A - B, -(B - A))}\")\n",
        "\n",
        "# Exemplo prático: calculando \"erro\" entre duas predições\n",
        "print(\"\\n🎯 Exemplo prático - Diferença de predições:\")\n",
        "predicao_modelo1 = np.array([[0.8, 0.2], [0.6, 0.4]])\n",
        "predicao_modelo2 = np.array([[0.7, 0.3], [0.5, 0.5]])\n",
        "\n",
        "diferenca = predicao_modelo1 - predicao_modelo2\n",
        "print(\"Diferença entre modelos:\")\n",
        "print(diferenca)\n",
        "print(f\"\\nDiferença média absoluta: {np.abs(diferenca).mean():.3f}\")"
      ],
      "execution_count": null,
      "outputs": []
    },
    {
      "cell_type": "markdown",
      "metadata": {
        "id": "visualization_operations"
      },
      "source": [
        "## 📊 Visualizando as Operações"
      ]
    },
    {
      "cell_type": "code",
      "metadata": {
        "id": "visualization_code"
      },
      "source": [
        "# Vamos visualizar nossas operações!\n",
        "fig, axes = plt.subplots(2, 2, figsize=(15, 10))\n",
        "\n",
        "# Matriz A\n",
        "im1 = axes[0,0].imshow(A, cmap='Blues', aspect='auto')\n",
        "axes[0,0].set_title('Matriz A\\n(Pesos da Camada 1)', fontsize=14, fontweight='bold')\n",
        "for i in range(A.shape[0]):\n",
        "    for j in range(A.shape[1]):\n",
        "        axes[0,0].text(j, i, str(A[i,j]), ha='center', va='center', fontweight='bold')\n",
        "\n",
        "# Matriz B\n",
        "im2 = axes[0,1].imshow(B, cmap='Reds', aspect='auto')\n",
        "axes[0,1].set_title('Matriz B\\n(Pesos da Camada 2)', fontsize=14, fontweight='bold')\n",
        "for i in range(B.shape[0]):\n",
        "    for j in range(B.shape[1]):\n",
        "        axes[0,1].text(j, i, str(B[i,j]), ha='center', va='center', fontweight='bold')\n",
        "\n",
        "# Soma A + B\n",
        "im3 = axes[1,0].imshow(A + B, cmap='Greens', aspect='auto')\n",
        "axes[1,0].set_title('A + B\\n(Combinação Aditiva)', fontsize=14, fontweight='bold')\n",
        "for i in range(A.shape[0]):\n",
        "    for j in range(A.shape[1]):\n",
        "        axes[1,0].text(j, i, str((A + B)[i,j]), ha='center', va='center', fontweight='bold')\n",
        "\n",
        "# Subtração A - B\n",
        "im4 = axes[1,1].imshow(A - B, cmap='Purples', aspect='auto')\n",
        "axes[1,1].set_title('A - B\\n(Diferença)', fontsize=14, fontweight='bold')\n",
        "for i in range(A.shape[0]):\n",
        "    for j in range(A.shape[1]):\n",
        "        axes[1,1].text(j, i, str((A - B)[i,j]), ha='center', va='center', fontweight='bold')\n",
        "\n",
        "# Remove ticks para ficar mais limpo\n",
        "for ax in axes.flat:\n",
        "    ax.set_xticks([])\n",
        "    ax.set_yticks([])\n",
        "\n",
        "plt.tight_layout()\n",
        "plt.suptitle('🎨 Operações com Matrizes Visualizadas', fontsize=16, fontweight='bold', y=1.02)\n",
        "plt.show()\n",
        "\n",
        "print(\"🎯 Liiindo! Agora você vê como cada operação transforma os dados!\")"
      ],
      "execution_count": null,
      "outputs": []
    },
    {
      "cell_type": "markdown",
      "metadata": {
        "id": "multiplication_intro"
      },
      "source": [
        "## ✖️ Multiplicação de Matrizes: Onde a Mágica Acontece!\n\nAgora chegamos na **operação mais importante** para redes neurais! A multiplicação de matrizes é onde **a transformação real acontece**.\n\n### 🤯 Por que é Diferente?\n\nDiferente da soma e subtração, a multiplicação **NÃO é elemento por elemento**. É bem mais sofisticada!\n\n### 📐 A Regra de Ouro\n\nPara multiplicar duas matrizes $A_{m \\times n}$ e $B_{p \\times q}$:\n\n**CONDIÇÃO OBRIGATÓRIA**: $n = p$ (número de colunas de A = número de linhas de B)\n\n**RESULTADO**: Matriz $C_{m \\times q}$\n\n### 🧮 A Fórmula Matemática\n\n$$c_{ij} = \\sum_{k=1}^{n} a_{ik} \\cdot b_{kj}$$\n\n**Em português**: Para calcular o elemento $c_{ij}$, pegamos a **linha i de A** e a **coluna j de B**, multiplicamos **elemento por elemento** e **somamos tudo**!\n\n![](/Users/pedroguth/Downloads/Projetos/Book Maker/5-Imagens/algebra-linear-para-ia-modulo-03_img_04.png)\n\n**🔥 Dica do Pedro**: Pensa assim - é como se cada linha da primeira matriz fosse um \"neurônio\" conversando com cada coluna da segunda matriz (que são as \"características\")!"
      ]
    },
    {
      "cell_type": "code",
      "metadata": {
        "id": "multiplication_example"
      },
      "source": [
        "# Vamos ver a multiplicação na prática!\n",
        "print(\"✖️ MULTIPLICAÇÃO DE MATRIZES - A Mágica das Transformações\")\n",
        "print(\"=\"*60)\n",
        "\n",
        "# Criando matrizes compatíveis para multiplicação\n",
        "# A: 3×4, B precisa ser 4×algo para dar certo\n",
        "X = np.array([[1, 2],\n",
        "              [3, 4],\n",
        "              [5, 6],\n",
        "              [7, 8]])  # 4×2\n",
        "\n",
        "print(\"Matriz A (3×4):\")\n",
        "print(A)\n",
        "print(f\"\\nMatriz X (4×2):\")\n",
        "print(X)\n",
        "\n",
        "# Verificando se podemos multiplicar\n",
        "print(f\"\\n🔍 Verificação de compatibilidade:\")\n",
        "print(f\"A.shape = {A.shape} (3×4)\")\n",
        "print(f\"X.shape = {X.shape} (4×2)\")\n",
        "print(f\"Colunas de A ({A.shape[1]}) = Linhas de X ({X.shape[0]})? {A.shape[1] == X.shape[0]}\")\n",
        "print(\"✅ Podemos multiplicar!\")\n",
        "\n",
        "# Fazendo a multiplicação\n",
        "C_mult = A @ X  # Operador @ é para multiplicação de matrizes\n",
        "# Ou também: C_mult = np.dot(A, X)\n",
        "\n",
        "print(f\"\\nResultado A × X (será {A.shape[0]}×{X.shape[1]}):\")\n",
        "print(C_mult)\n",
        "print(f\"Dimensões do resultado: {C_mult.shape}\")"
      ],
      "execution_count": null,
      "outputs": []
    },
    {
      "cell_type": "markdown",
      "metadata": {
        "id": "multiplication_detail"
      },
      "source": [
        "## 🔍 Entendendo Cada Passo da Multiplicação\n\nVamos **abrir a caixa preta** e ver como cada elemento do resultado é calculado!"
      ]
    },
    {
      "cell_type": "code",
      "metadata": {
        "id": "multiplication_step_by_step"
      },
      "source": [
        "# Vamos calcular passo a passo para entender melhor\n",
        "print(\"🔍 MULTIPLICAÇÃO PASSO A PASSO\")\n",
        "print(\"=\"*40)\n",
        "\n",
        "print(\"Calculando elemento por elemento...\\n\")\n",
        "\n",
        "# Vamos usar matrizes menores para ficar mais claro\n",
        "A_pequena = np.array([[1, 2, 3],\n",
        "                      [4, 5, 6]])\n",
        "\n",
        "B_pequena = np.array([[7, 8],\n",
        "                      [9, 10],\n",
        "                      [11, 12]])\n",
        "\n",
        "print(\"Matriz A (2×3):\")\n",
        "print(A_pequena)\n",
        "print(\"\\nMatriz B (3×2):\")\n",
        "print(B_pequena)\n",
        "\n",
        "# Calculando cada posição manualmente\n",
        "resultado = np.zeros((2, 2))\n",
        "\n",
        "for i in range(2):  # Para cada linha de A\n",
        "    for j in range(2):  # Para cada coluna de B\n",
        "        # Pegamos linha i de A e coluna j de B\n",
        "        linha_A = A_pequena[i, :]\n",
        "        coluna_B = B_pequena[:, j]\n",
        "        \n",
        "        # Multiplicação elemento por elemento e soma\n",
        "        produto = np.sum(linha_A * coluna_B)\n",
        "        resultado[i, j] = produto\n",
        "        \n",
        "        print(f\"\\nC[{i},{j}] = Linha {i} de A × Coluna {j} de B\")\n",
        "        print(f\"C[{i},{j}] = {linha_A} × {coluna_B}\")\n",
        "        print(f\"C[{i},{j}] = {linha_A[0]}×{coluna_B[0]} + {linha_A[1]}×{coluna_B[1]} + {linha_A[2]}×{coluna_B[2]}\")\n",
        "        print(f\"C[{i},{j}] = {linha_A[0]*coluna_B[0]} + {linha_A[1]*coluna_B[1]} + {linha_A[2]*coluna_B[2]} = {produto}\")\n",
        "\n",
        "print(f\"\\n🎯 Resultado final:\")\n",
        "print(resultado)\n",
        "\n",
        "# Verificando com NumPy\n",
        "resultado_numpy = A_pequena @ B_pequena\n",
        "print(f\"\\n✅ Verificação com NumPy:\")\n",
        "print(resultado_numpy)\n",
        "print(f\"\\nSão iguais? {np.allclose(resultado, resultado_numpy)}\")"
      ],
      "execution_count": null,
      "outputs": []
    },
    {
      "cell_type": "markdown",
      "metadata": {
        "id": "order_matters"
      },
      "source": [
        "## ⚠️ Por que a ORDEM Importa? O Drama das Dimensões!\n\nAqui está o **pulo do gato** que muita gente não entende no começo!\n\n### 🚨 A Multiplicação NÃO é Comutativa!\n\nDiferente da soma, na multiplicação: **$A \\times B \\neq B \\times A$**\n\n### 🧠 Por que isso é CRUCIAL em Redes Neurais?\n\nImagine você tem:\n- **Dados de entrada**: 100 amostras × 784 características (imagens 28×28)\n- **Pesos da primeira camada**: 784 entradas × 128 neurônios\n\nA **única ordem que funciona** é: `Dados @ Pesos`\n\n**Resultado**: 100 amostras × 128 neurônios ativados ✅\n\nSe tentarmos `Pesos @ Dados`: **ERRO!** As dimensões não batem! ❌\n\n![](/Users/pedroguth/Downloads/Projetos/Book Maker/5-Imagens/algebra-linear-para-ia-modulo-03_img_05.png)\n\n**🔥 Dica do Pedro**: Sempre pense: \"Estou transformando QUEM em O QUÊ?\" A ordem das matrizes conta essa história!"
      ]
    },
    {
      "cell_type": "code",
      "metadata": {
        "id": "order_demonstration"
      },
      "source": [
        "# Demonstrando por que a ordem importa!\n",
        "print(\"⚠️ A ORDEM IMPORTA - Demonstração Prática\")\n",
        "print(\"=\"*50)\n",
        "\n",
        "# Matrizes de exemplo\n",
        "P = np.array([[1, 2],\n",
        "              [3, 4],\n",
        "              [5, 6]])  # 3×2\n",
        "\n",
        "Q = np.array([[7, 8, 9],\n",
        "              [10, 11, 12]])  # 2×3\n",
        "\n",
        "print(\"Matriz P (3×2):\")\n",
        "print(P)\n",
        "print(\"\\nMatriz Q (2×3):\")\n",
        "print(Q)\n",
        "\n",
        "# P × Q é possível (3×2) × (2×3) = (3×3)\n",
        "PQ = P @ Q\n",
        "print(f\"\\n✅ P × Q (possível - 3×2 × 2×3 = 3×3):\")\n",
        "print(PQ)\n",
        "print(f\"Dimensões: {PQ.shape}\")\n",
        "\n",
        "# Q × P também é possível (2×3) × (3×2) = (2×2)\n",
        "QP = Q @ P\n",
        "print(f\"\\n✅ Q × P (também possível - 2×3 × 3×2 = 2×2):\")\n",
        "print(QP)\n",
        "print(f\"Dimensões: {QP.shape}\")\n",
        "\n",
        "# Mas os resultados são COMPLETAMENTE diferentes!\n",
        "print(f\"\\n🤯 P×Q = Q×P? {np.array_equal(PQ, QP) if PQ.shape == QP.shape else 'Nem as dimensões são iguais!'}\")\n",
        "\n",
        "# Exemplo que não funciona\n",
        "print(\"\\n❌ Tentativa de multiplicação incompatível:\")\n",
        "R = np.array([[1, 2, 3]])  # 1×3\n",
        "S = np.array([[4], [5]])   # 2×1\n",
        "\n",
        "print(f\"R (1×3): {R}\")\n",
        "print(f\"S (2×1): {S.flatten()}\")\n",
        "\n",
        "try:\n",
        "    resultado_impossivel = R @ S\n",
        "    print(\"Resultado:\", resultado_impossivel)\n",
        "except ValueError as e:\n",
        "    print(f\"💥 ERRO: {e}\")\n",
        "    print(\"As dimensões não são compatíveis para multiplicação!\")"
      ],
      "execution_count": null,
      "outputs": []
    },
    {
      "cell_type": "markdown",
      "metadata": {
        "id": "neural_network_example"
      },
      "source": [
        "## 🧠 Aplicação Real: Simulando uma Camada Neural\n\nAgora vamos ver como tudo isso se conecta em uma **rede neural de verdade**!\n\n### 🎯 O Cenário\n\nVamos simular:\n- **Entrada**: 5 amostras, cada uma com 4 características\n- **Camada densa**: 4 entradas → 3 neurônios\n- **Pesos**: matriz 4×3\n- **Bias**: vetor com 3 elementos\n\n### 📊 A Transformação Completa\n\n$$\\text{Saída} = \\text{Entrada} \\times \\text{Pesos} + \\text{Bias}$$\n\n$$Y_{5 \\times 3} = X_{5 \\times 4} \\times W_{4 \\times 3} + b_{1 \\times 3}$$"
      ]
    },
    {
      "cell_type": "code",
      "metadata": {
        "id": "neural_layer_simulation"
      },
      "source": [
        "# Simulando uma camada neural real!\n",
        "print(\"🧠 SIMULAÇÃO DE CAMADA NEURAL REAL\")\n",
        "print(\"=\"*40)\n",
        "\n",
        "# Definindo nossos dados\n",
        "np.random.seed(42)  # Para resultados reproduzíveis\n",
        "\n",
        "# Dados de entrada (5 amostras, 4 características cada)\n",
        "X = np.random.randn(5, 4)\n",
        "print(\"📊 Dados de entrada X (5 amostras × 4 características):\")\n",
        "print(np.round(X, 2))\n",
        "print(f\"Dimensões: {X.shape}\")\n",
        "\n",
        "# Pesos da camada (4 entradas × 3 neurônios)\n",
        "W = np.random.randn(4, 3) * 0.5  # Multiplicamos por 0.5 para pesos menores\n",
        "print(f\"\\n⚖️ Matriz de pesos W (4 características × 3 neurônios):\")\n",
        "print(np.round(W, 2))\n",
        "print(f\"Dimensões: {W.shape}\")\n",
        "\n",
        "# Bias (um para cada neurônio)\n",
        "b = np.random.randn(3) * 0.1\n",
        "print(f\"\\n🎯 Vetor bias b (3 neurônios):\")\n",
        "print(np.round(b, 2))\n",
        "print(f\"Dimensões: {b.shape}\")\n",
        "\n",
        "# Calculando a saída da camada\n",
        "print(\"\\n🔄 Aplicando a transformação linear:\")\n",
        "print(\"Y = X @ W + b\")\n",
        "\n",
        "# Multiplicação de matrizes\n",
        "Z = X @ W\n",
        "print(f\"\\nPrimeiro: X @ W (multiplicação de matrizes)\")\n",
        "print(f\"Dimensões: {X.shape} @ {W.shape} = {Z.shape}\")\n",
        "print(\"Resultado Z =\")\n",
        "print(np.round(Z, 2))\n",
        "\n",
        "# Adição do bias (broadcasting)\n",
        "Y = Z + b\n",
        "print(f\"\\nDepois: Z + b (adição com broadcasting)\")\n",
        "print(\"Saída final Y =\")\n",
        "print(np.round(Y, 2))\n",
        "print(f\"Dimensões finais: {Y.shape}\")\n",
        "\n",
        "print(\"\\n🎉 Liiindo! Acabamos de simular uma camada neural completa!\")\n",
        "print(\"\\n💡 Cada linha de Y representa a ativação dos 3 neurônios para uma amostra\")"
      ],
      "execution_count": null,
      "outputs": []
    },
    {
      "cell_type": "markdown",
      "metadata": {
        "id": "mermaid_diagram"
      },
      "source": [
        "## 📈 Fluxo de Dados em Rede Neural\n\n```mermaid\ngraph LR\n    A[\"Entrada X<br/>(5×4)\"] --> B[\"Multiplicação<br/>X @ W\"]\n    W[\"Pesos W<br/>(4×3)\"] --> B\n    B --> C[\"Resultado Z<br/>(5×3)\"]\n    C --> D[\"Adição Bias<br/>Z + b\"]\n    Bias[\"Bias b<br/>(3,)\"] --> D\n    D --> E[\"Saída Y<br/>(5×3)\"]\n    \n    style A fill:#e1f5fe\n    style W fill:#fff3e0\n    style Bias fill:#f3e5f5\n    style E fill:#e8f5e8\n```"
      ]
    },
    {
      "cell_type": "code",
      "metadata": {
        "id": "advanced_visualization"
      },
      "source": [
        "# Vamos visualizar o fluxo completo!\n",
        "fig, axes = plt.subplots(2, 3, figsize=(18, 10))\n",
        "\n",
        "# Dados de entrada X\n",
        "im1 = axes[0,0].imshow(X, cmap='Blues', aspect='auto')\n",
        "axes[0,0].set_title('Entrada X\\n(5 amostras × 4 características)', fontweight='bold')\n",
        "axes[0,0].set_xlabel('Características')\n",
        "axes[0,0].set_ylabel('Amostras')\n",
        "\n",
        "# Pesos W\n",
        "im2 = axes[0,1].imshow(W, cmap='Oranges', aspect='auto')\n",
        "axes[0,1].set_title('Pesos W\\n(4 características × 3 neurônios)', fontweight='bold')\n",
        "axes[0,1].set_xlabel('Neurônios')\n",
        "axes[0,1].set_ylabel('Características')\n",
        "\n",
        "# Resultado da multiplicação Z\n",
        "im3 = axes[0,2].imshow(Z, cmap='Greens', aspect='auto')\n",
        "axes[0,2].set_title('X @ W = Z\\n(5 amostras × 3 neurônios)', fontweight='bold')\n",
        "axes[0,2].set_xlabel('Neurônios')\n",
        "axes[0,2].set_ylabel('Amostras')\n",
        "\n",
        "# Bias\n",
        "axes[1,0].bar(range(len(b)), b, color=['purple', 'magenta', 'violet'])\n",
        "axes[1,0].set_title('Bias b\\n(3 neurônios)', fontweight='bold')\n",
        "axes[1,0].set_xlabel('Neurônios')\n",
        "axes[1,0].set_ylabel('Valor do Bias')\n",
        "\n",
        "# Resultado final Y\n",
        "im4 = axes[1,1].imshow(Y, cmap='viridis', aspect='auto')\n",
        "axes[1,1].set_title('Saída Final Y = Z + b\\n(5 amostras × 3 neurônios)', fontweight='bold')\n",
        "axes[1,1].set_xlabel('Neurônios')\n",
        "axes[1,1].set_ylabel('Amostras')\n",
        "\n",
        "# Comparação antes e depois\n",
        "diferenca = Y - Z\n",
        "im5 = axes[1,2].imshow(diferenca, cmap='RdBu', aspect='auto')\n",
        "axes[1,2].set_title('Efeito do Bias\\n(Y - Z)', fontweight='bold')\n",
        "axes[1,2].set_xlabel('Neurônios')\n",
        "axes[1,2].set_ylabel('Amostras')\n",
        "\n",
        "# Adicionando colorbars\n",
        "plt.colorbar(im1, ax=axes[0,0])\n",
        "plt.colorbar(im2, ax=axes[0,1])\n",
        "plt.colorbar(im3, ax=axes[0,2])\n",
        "plt.colorbar(im4, ax=axes[1,1])\n",
        "plt.colorbar(im5, ax=axes[1,2])\n",
        "\n",
        "plt.tight_layout()\n",
        "plt.suptitle('🧠 Anatomia Completa de uma Camada Neural', fontsize=16, fontweight='bold', y=1.02)\n",
        "plt.show()\n",
        "\n",
        "print(\"🔥 Agora você vê EXATAMENTE como os dados fluem pela rede!\")"
      ],
      "execution_count": null,
      "outputs": []
    },
    {
      "cell_type": "markdown",
      "metadata": {
        "id": "broadcasting"
      },
      "source": [
        "## 📡 Broadcasting: O Truque Mágico do NumPy\n\nVocê reparou como conseguimos somar a matriz Z (5×3) com o vetor bias b (3,)? Isso é **broadcasting**!\n\n### 🎯 Como Funciona o Broadcasting\n\nO NumPy \"**estica**\" automaticamente o vetor menor para casar com as dimensões da matriz maior:\n\n```\nZ (5×3) + b (3,) \n↓\nZ (5×3) + b_expandido (5×3)  # b é repetido 5 vezes\n```\n\n### 🧠 Por que é Essencial em IA\n\n- **Eficiência**: Não precisamos criar matrizes gigantes desnecessariamente\n- **Memória**: Economiza RAM preciosa\n- **Simplicidade**: Código mais limpo e legível\n\n![](/Users/pedroguth/Downloads/Projetos/Book Maker/5-Imagens/algebra-linear-para-ia-modulo-03_img_06.png)\n\n**🔥 Dica do Pedro**: O broadcasting segue regras específicas - as dimensões devem ser **compatíveis** ou uma delas deve ser **1**!"
      ]
    },
    {
      "cell_type": "code",
      "metadata": {
        "id": "broadcasting_examples"
      },
      "source": [
        "# Explorando o broadcasting em detalhes\n",
        "print(\"📡 BROADCASTING - A Mágica das Dimensões\")\n",
        "print(\"=\"*45)\n",
        "\n",
        "# Exemplo 1: Matriz + Vetor\n",
        "matriz = np.array([[1, 2, 3],\n",
        "                   [4, 5, 6],\n",
        "                   [7, 8, 9]])\n",
        "\n",
        "vetor = np.array([10, 20, 30])\n",
        "\n",
        "print(\"Exemplo 1: Matriz (3×3) + Vetor (3,)\")\n",
        "print(f\"Matriz:\\n{matriz}\")\n",
        "print(f\"\\nVetor: {vetor}\")\n",
        "\n",
        "resultado1 = matriz + vetor\n",
        "print(f\"\\nResultado (broadcasting automático):\\n{resultado1}\")\n",
        "\n",
        "# Mostrando o que acontece \"por baixo dos panos\"\n",
        "vetor_expandido = np.tile(vetor, (3, 1))\n",
        "print(f\"\\nO que o NumPy faz internamente (vetor expandido):\\n{vetor_expandido}\")\n",
        "print(f\"\\nVerificação: {np.array_equal(resultado1, matriz + vetor_expandido)}\")\n",
        "\n",
        "print(\"\\n\" + \"=\"*45)\n",
        "\n",
        "# Exemplo 2: Diferentes formas de broadcasting\n",
        "print(\"Exemplo 2: Diferentes tipos de broadcasting\")\n",
        "\n",
        "A = np.random.randint(1, 10, (2, 3))\n",
        "b_linha = np.random.randint(1, 5, (1, 3))  # Vetor linha\n",
        "b_coluna = np.random.randint(1, 5, (2, 1))  # Vetor coluna\n",
        "escalar = 5\n",
        "\n",
        "print(f\"Matriz A (2×3):\\n{A}\")\n",
        "print(f\"\\nVetor linha b_linha (1×3): {b_linha}\")\n",
        "print(f\"Vetor coluna b_coluna (2×1):\\n{b_coluna}\")\n",
        "print(f\"Escalar: {escalar}\")\n",
        "\n",
        "print(f\"\\nA + b_linha (broadcasting em linhas):\\n{A + b_linha}\")\n",
        "print(f\"\\nA + b_coluna (broadcasting em colunas):\\n{A + b_coluna}\")\n",
        "print(f\"\\nA + escalar (broadcasting total):\\n{A + escalar}\")\n",
        "\n",
        "print(\"\\n🎯 Todos esses são exemplos de broadcasting em ação!\")"
      ],
      "execution_count": null,
      "outputs": []
    },
    {
      "cell_type": "markdown",
      "metadata": {
        "id": "exercise_1"
      },
      "source": [
        "## 💪 Exercício 1: Construindo sua Primeira Rede\n\nAgora é sua vez! Vamos implementar uma **mini-rede neural** com 2 camadas:\n\n### 🎯 Especificações:\n- **Entrada**: 10 amostras, 5 características cada\n- **Camada 1**: 5 → 8 neurônios\n- **Camada 2**: 8 → 3 neurônios (saída final)\n- Use **função ReLU** entre as camadas: $\\text{ReLU}(x) = \\max(0, x)$\n\n### 📋 Sua Missão:\n1. Crie as matrizes de pesos e vetores bias\n2. Implemente o forward pass completo\n3. Visualize os resultados"
      ]
    },
    {
      "cell_type": "code",
      "metadata": {
        "id": "exercise_1_solution"
      },
      "source": [
        "# 💪 EXERCÍCIO 1 - Sua vez de brilhar!\n",
        "print(\"💪 EXERCÍCIO 1: Construindo uma Mini-Rede Neural\")\n",
        "print(\"=\"*50)\n",
        "\n",
        "# Definindo a seed para resultados consistentes\n",
        "np.random.seed(123)\n",
        "\n",
        "# TODO: Crie os dados de entrada (10 amostras, 5 características)\n",
        "X_input = np.random.randn(10, 5)\n",
        "print(f\"📊 Dados de entrada: {X_input.shape}\")\n",
        "\n",
        "# TODO: Crie os pesos e bias da primeira camada (5 → 8)\n",
        "W1 = np.random.randn(5, 8) * 0.3  # Pesos pequenos são melhores\n",
        "b1 = np.random.randn(8) * 0.1\n",
        "print(f\"⚖️ Camada 1 - W1: {W1.shape}, b1: {b1.shape}\")\n",
        "\n",
        "# TODO: Crie os pesos e bias da segunda camada (8 → 3)\n",
        "W2 = np.random.randn(8, 3) * 0.3\n",
        "b2 = np.random.randn(3) * 0.1\n",
        "print(f\"⚖️ Camada 2 - W2: {W2.shape}, b2: {b2.shape}\")\n",
        "\n",
        "# Implementando o forward pass\n",
        "print(\"\\n🔄 Executando Forward Pass:\")\n",
        "\n",
        "# Primeira camada\n",
        "Z1 = X_input @ W1 + b1\n",
        "A1 = np.maximum(0, Z1)  # ReLU activation\n",
        "print(f\"Camada 1: {X_input.shape} → {Z1.shape} → {A1.shape} (após ReLU)\")\n",
        "\n",
        "# Segunda camada\n",
        "Z2 = A1 @ W2 + b2\n",
        "A2 = Z2  # Saída linear (sem ativação)\n",
        "print(f\"Camada 2: {A1.shape} → {Z2.shape} → {A2.shape} (saída final)\")\n",
        "\n",
        "print(f\"\\n🎉 Parabéns! Você criou sua primeira rede neural!\")\n",
        "print(f\"Entrada: {X_input.shape} → Saída: {A2.shape}\")\n",
        "print(f\"\\nPrimeiras 3 predições:\")\n",
        "print(np.round(A2[:3], 3))\n",
        "\n",
        "# Verificando quantos neurônios foram ativados na camada oculta\n",
        "neurons_ativos = np.sum(A1 > 0, axis=1)\n",
        "print(f\"\\n🧠 Neurônios ativados por amostra (de 8 possíveis):\")\n",
        "print(neurons_ativos)\n",
        "print(f\"Média de ativação: {neurons_ativos.mean():.1f} neurônios por amostra\")"
      ],
      "execution_count": null,
      "outputs": []
    },
    {
      "cell_type": "markdown",
      "metadata": {
        "id": "exercise_2"
      },
      "source": [
        "## 🔥 Exercício 2: Explorando o Efeito da Ordem\n\nVamos investigar **experimentalmente** como a ordem das operações afeta os resultados!"
      ]
    },
    {
      "cell_type": "code",
      "metadata": {
        "id": "exercise_2_solution"
      },
      "source": [
        "# 🔥 EXERCÍCIO 2 - Investigando a Ordem das Operações\n",
        "print(\"🔥 EXERCÍCIO 2: O Mistério da Ordem\")\n",
        "print(\"=\"*40)\n",
        "\n",
        "# Cenário: Duas transformações sequenciais\n",
        "np.random.seed(456)\n",
        "\n",
        "# Dados iniciais\n",
        "dados = np.random.randn(4, 3)\n",
        "transf_A = np.random.randn(3, 5)\n",
        "transf_B = np.random.randn(5, 2)\n",
        "\n",
        "print(\"🎯 Cenário: Duas transformações em sequência\")\n",
        "print(f\"Dados: {dados.shape}\")\n",
        "print(f\"Transformação A: {transf_A.shape}\")\n",
        "print(f\"Transformação B: {transf_B.shape}\")\n",
        "\n",
        "# Método 1: Aplicar transformações uma por vez\n",
        "print(\"\\n📊 Método 1: Passo a passo\")\n",
        "resultado_passo1 = dados @ transf_A\n",
        "resultado_final1 = resultado_passo1 @ transf_B\n",
        "print(f\"(Dados @ A) @ B = {dados.shape} → {resultado_passo1.shape} → {resultado_final1.shape}\")\n",
        "\n",
        "# Método 2: Pré-computar a transformação combinada\n",
        "print(\"\\n⚡ Método 2: Transformação combinada\")\n",
        "transf_combinada = transf_A @ transf_B\n",
        "resultado_final2 = dados @ transf_combinada\n",
        "print(f\"Dados @ (A @ B) = {dados.shape} → {resultado_final2.shape}\")\n",
        "print(f\"Transformação combinada: {transf_combinada.shape}\")\n",
        "\n",
        "# Verificando se são iguais\n",
        "print(f\"\\n🔍 Os resultados são iguais? {np.allclose(resultado_final1, resultado_final2)}\")\n",
        "print(\"\\n💡 Isso demonstra a ASSOCIATIVIDADE da multiplicação de matrizes!\")\n",
        "print(\"(A @ B) @ C = A @ (B @ C)\")\n",
        "\n",
        "# Medindo performance\n",
        "import time\n",
        "\n",
        "# Testando com dados maiores\n",
        "dados_grandes = np.random.randn(1000, 100)\n",
        "A_grande = np.random.randn(100, 50)\n",
        "B_grande = np.random.randn(50, 10)\n",
        "\n",
        "# Método passo a passo\n",
        "start_time = time.time()\n",
        "for _ in range(100):\n",
        "    temp = dados_grandes @ A_grande\n",
        "    result1 = temp @ B_grande\n",
        "time_metodo1 = time.time() - start_time\n",
        "\n",
        "# Método combinado\n",
        "AB_combined = A_grande @ B_grande\n",
        "start_time = time.time()\n",
        "for _ in range(100):\n",
        "    result2 = dados_grandes @ AB_combined\n",
        "time_metodo2 = time.time() - start_time\n",
        "\n",
        "print(f\"\\n⏱️ Performance (100 repetições):\")\n",
        "print(f\"Método passo a passo: {time_metodo1:.4f}s\")\n",
        "print(f\"Método combinado: {time_metodo2:.4f}s\")\n",
        "print(f\"Speedup: {time_metodo1/time_metodo2:.2f}x mais rápido!\")\n",
        "\n",
        "print(\"\\n🚀 Conclusão: A ordem pode afetar a EFICIÊNCIA, não apenas o resultado!\")"
      ],
      "execution_count": null,
      "outputs": []
    },
    {
      "cell_type": "markdown",
      "metadata": {
        "id": "real_world_connection"
      },
      "source": [
        "## 🌍 Conexões com o Mundo Real\n\nAgora que dominamos as operações com matrizes, vamos ver onde elas aparecem **no mundo real da IA**:\n\n### 🖼️ Processamento de Imagens\n- **Convolução**: Multiplicação de matrizes para detectar padrões\n- **Pooling**: Redução de dimensionalidade\n- **Transformações geométricas**: Rotação, escala, translação\n\n### 🗣️ Processamento de Linguagem Natural\n- **Embeddings**: Matriz palavra × características\n- **Attention**: Multiplicação para calcular relevância\n- **Transformers**: Camadas densas com multiplicação matricial\n\n### 🎯 Sistemas de Recomendação\n- **Matriz usuário × item**: Collaborative filtering\n- **Fatoração matricial**: SVD para descobrir padrões latentes\n- **Similaridade**: Produto escalar entre vetores\n\n![](/Users/pedroguth/Downloads/Projetos/Book Maker/5-Imagens/algebra-linear-para-ia-modulo-03_img_07.png)"
      ]
    },
    {
      "cell_type": "code",
      "metadata": {
        "id": "real_world_examples"
      },
      "source": [
        "# Exemplos do mundo real com nossas operações\n",
        "print(\"🌍 APLICAÇÕES NO MUNDO REAL\")\n",
        "print(\"=\"*35)\n",
        "\n",
        "# Simulação 1: Sistema de Recomendação Simples\n",
        "print(\"🎬 Simulação: Sistema de Recomendação de Filmes\")\n",
        "\n",
        "# Matriz usuário x características dos filmes\n",
        "# Características: [Ação, Comédia, Drama, Ficção, Romance]\n",
        "preferencias_usuarios = np.array([\n",
        "    [5, 2, 3, 4, 1],  # Usuário 1: ama ação\n",
        "    [1, 5, 4, 2, 5],  # Usuário 2: ama comédia e romance\n",
        "    [3, 3, 5, 3, 4],  # Usuário 3: ama drama\n",
        "    [4, 1, 2, 5, 2]   # Usuário 4: ama ação e ficção\n",
        "])\n",
        "\n",
        "# Características dos filmes disponíveis\n",
        "filmes_caracteristicas = np.array([\n",
        "    [4, 1, 2, 3, 1],  # Filme A: Ação/Ficção\n",
        "    [1, 5, 3, 1, 4],  # Filme B: Comédia/Romance\n",
        "    [2, 2, 5, 2, 3],  # Filme C: Drama\n",
        "    [5, 1, 1, 4, 1],  # Filme D: Ação/Ficção pura\n",
        "    [1, 4, 4, 1, 5]   # Filme E: Comédia/Romance/Drama\n",
        "]).T  # Transposta para ficar (características × filmes)\n",
        "\n",
        "# Calculando scores de recomendação\n",
        "scores_recomendacao = preferencias_usuarios @ filmes_caracteristicas\n",
        "\n",
        "print(f\"Preferências dos usuários (4 usuários × 5 características):\")\n",
        "print(preferencias_usuarios)\n",
        "print(f\"\\nCaracterísticas dos filmes (5 características × 5 filmes):\")\n",
        "print(filmes_caracteristicas)\n",
        "print(f\"\\nScores de recomendação (4 usuários × 5 filmes):\")\n",
        "print(scores_recomendacao)\n",
        "\n",
        "# Encontrando melhores recomendações para cada usuário\n",
        "filmes_nomes = ['Ação A', 'Comédia B', 'Drama C', 'Ação D', 'Romance E']\n",
        "print(\"\\n🏆 Melhores recomendações por usuário:\")\n",
        "for i in range(4):\n",
        "    melhor_filme_idx = np.argmax(scores_recomendacao[i])\n",
        "    melhor_score = scores_recomendacao[i, melhor_filme_idx]\n",
        "    print(f\"Usuário {i+1}: {filmes_nomes[melhor_filme_idx]} (score: {melhor_score})\")\n",
        "\n",
        "print(\"\\n\" + \"=\"*50)\n",
        "\n",
        "# Simulação 2: Transformação de Embeddings\n",
        "print(\"🔤 Simulação: Transformação de Word Embeddings\")\n",
        "\n",
        "# Embeddings de palavras (5 palavras × 4 dimensões)\n",
        "word_embeddings = np.random.randn(5, 4)\n",
        "palavras = ['gato', 'cachorro', 'peixe', 'pássaro', 'cobra']\n",
        "\n",
        "# Matriz de transformação para novo espaço semântico\n",
        "transformacao_semantica = np.random.randn(4, 3)\n",
        "\n",
        "# Aplicando transformação\n",
        "novos_embeddings = word_embeddings @ transformacao_semantica\n",
        "\n",
        "print(f\"Embeddings originais ({word_embeddings.shape}):\")\n",
        "for i, palavra in enumerate(palavras):\n",
        "    print(f\"{palavra:8}: {np.round(word_embeddings[i], 2)}\")\n",
        "\n",
        "print(f\"\\nNovos embeddings transformados ({novos_embeddings.shape}):\")\n",
        "for i, palavra in enumerate(palavras):\n",
        "    print(f\"{palavra:8}: {np.round(novos_embeddings[i], 2)}\")\n",
        "\n",
        "print(\"\\n🎯 Isso é exatamente como funciona uma camada densa em NLP!\")"
      ],
      "execution_count": null,
      "outputs": []
    },
    {
      "cell_type": "markdown",
      "metadata": {
        "id": "performance_tips"
      },
      "source": [
        "## ⚡ Dicas de Performance e Boas Práticas\n\nAntes de finalizarmos, aqui estão as **dicas de ouro** para trabalhar com matrizes de forma eficiente:\n\n### 🚀 Otimizações de Performance\n\n1. **Use NumPy**: Sempre prefira operações vetorizadas\n2. **Evite loops**: Uma multiplicação matricial é milhares de vezes mais rápida que loops aninhados\n3. **Ordem importa**: `A @ B @ C` pode ser calculado como `(A @ B) @ C` ou `A @ (B @ C)` - escolha a ordem mais eficiente\n4. **Broadcasting**: Use quando possível para economizar memória\n\n### 🎯 Dicas de Debug\n\n1. **Sempre verifique dimensões** antes de operações\n2. **Use asserts** para validar shapes\n3. **Visualize** matrizes pequenas para entender o que está acontecendo\n4. **Teste com dados sintéticos** antes de usar dados reais\n\n**🔥 Dica Final do Pedro**: Quando em dúvida sobre dimensões, desenhe no papel! Sério, isso funciona! ✏️"
      ]
    },
    {
      "cell_type": "code",
      "metadata": {
        "id": "performance_comparison"
      },
      "source": [
        "# Comparação de performance: NumPy vs Loops puros\n",
        "print(\"⚡ COMPARAÇÃO DE PERFORMANCE\")\n",
        "print(\"=\"*35)\n",
        "\n",
        "import time\n",
        "\n",
        "# Criando matrizes de teste\n",
        "size = 200\n",
        "A_test = np.random.randn(size, size)\n",
        "B_test = np.random.randn(size, size)\n",
        "\n",
        "print(f\"Testando multiplicação de matrizes {size}×{size}\")\n",
        "\n",
        "# Método 1: NumPy otimizado\n",
        "start_time = time.time()\n",
        "result_numpy = A_test @ B_test\n",
        "time_numpy = time.time() - start_time\n",
        "\n",
        "print(f\"\\n🚀 NumPy (otimizado): {time_numpy:.4f} segundos\")\n",
        "\n",
        "# Método 2: Loops puros (só para matrizes pequenas!)\n",
        "if size <= 50:  # Só testamos com matrizes pequenas\n",
        "    A_small = A_test[:50, :50]\n",
        "    B_small = B_test[:50, :50]\n",
        "    \n",
        "    start_time = time.time()\n",
        "    result_loops = np.zeros((50, 50))\n",
        "    for i in range(50):\n",
        "        for j in range(50):\n",
        "            for k in range(50):\n",
        "                result_loops[i, j] += A_small[i, k] * B_small[k, j]\n",
        "    time_loops = time.time() - start_time\n",
        "    \n",
        "    print(f\"🐌 Loops puros (50×50): {time_loops:.4f} segundos\")\n",
        "    print(f\"🎯 NumPy é {time_loops/time_numpy:.0f}x mais rápido!\")\n",
        "else:\n",
        "    print(\"🐌 Loops puros: Muito lento para testar com matrizes grandes!\")\n",
        "\n",
        "# Testando diferentes ordens de multiplicação\n",
        "print(\"\\n\" + \"=\"*40)\n",
        "print(\"🧮 TESTANDO ORDEM DE MULTIPLICAÇÃO\")\n",
        "\n",
        "# Cenário: A(100×500) @ B(500×50) @ C(50×10)\n",
        "A_ordem = np.random.randn(100, 500)\n",
        "B_ordem = np.random.randn(500, 50)\n",
        "C_ordem = np.random.randn(50, 10)\n",
        "\n",
        "# Ordem 1: (A @ B) @ C\n",
        "start_time = time.time()\n",
        "AB = A_ordem @ B_ordem  # 100×50\n",
        "result_ordem1 = AB @ C_ordem  # 100×10\n",
        "time_ordem1 = time.time() - start_time\n",
        "\n",
        "# Ordem 2: A @ (B @ C)\n",
        "start_time = time.time()\n",
        "BC = B_ordem @ C_ordem  # 500×10\n",
        "result_ordem2 = A_ordem @ BC  # 100×10\n",
        "time_ordem2 = time.time() - start_time\n",
        "\n",
        "print(f\"Ordem 1 - (A @ B) @ C: {time_ordem1:.6f}s\")\n",
        "print(f\"Ordem 2 - A @ (B @ C): {time_ordem2:.6f}s\")\n",
        "print(f\"Resultados iguais? {np.allclose(result_ordem1, result_ordem2)}\")\n",
        "\n",
        "if time_ordem1 < time_ordem2:\n",
        "    print(f\"🏆 Ordem 1 é {time_ordem2/time_ordem1:.2f}x mais rápida!\")\n",
        "else:\n",
        "    print(f\"🏆 Ordem 2 é {time_ordem1/time_ordem2:.2f}x mais rápida!\")\n",
        "\n",
        "print(\"\\n💡 A ordem das operações pode fazer MUITA diferença na performance!\")"
      ],
      "execution_count": null,
      "outputs": []
    },
    {
      "cell_type": "markdown",
      "metadata": {
        "id": "summary"
      },
      "source": [
        "## 🎯 Resumão: O que Aprendemos Hoje\n\nParabéns! 🎉 Você acabou de dominar as **operações fundamentais com matrizes**! Vamos recapitular:\n\n### ✅ Conceitos Dominados\n\n1. **Soma e Subtração**: Operações elemento por elemento\n   - Requer matrizes de **mesmas dimensões**\n   - Soma é **comutativa**, subtração **não é**\n\n2. **Multiplicação de Matrizes**: A estrela do show!\n   - **Regra de ouro**: Colunas de A = Linhas de B\n   - **NÃO é comutativa**: $A \\times B \\neq B \\times A$\n   - **É associativa**: $(A \\times B) \\times C = A \\times (B \\times C)$\n\n3. **Broadcasting**: A mágica do NumPy\n   - Permite operações entre arrays de dimensões diferentes\n   - Essencial para adicionar bias em redes neurais\n\n### 🧠 Conexão com Redes Neurais\n\n- **Cada camada** é uma multiplicação matricial seguida de soma (bias)\n- **A ordem importa**: determina o fluxo de informação\n- **Dimensões contam a história**: entrada → transformação → saída\n\n### 🚀 Preparação para os Próximos Módulos\n\nNo **Módulo 4**, vamos mergulhar fundo no **NumPy** e ver todas essas operações na prática com dados reais!\n\nNos módulos seguintes, usaremos essas bases para:\n- **Resolver sistemas lineares** (Módulo 5)\n- **Entender transformações lineares** (Módulo 6)\n- **Trabalhar com inversas e transpostas** (Módulo 7)\n\n![](/Users/pedroguth/Downloads/Projetos/Book Maker/5-Imagens/algebra-linear-para-ia-modulo-03_img_08.png)\n\n### 🔥 Última Dica do Pedro\n\n> **\"Matrizes são a linguagem universal da IA. Agora você fala fluentemente!\"** \n>\n> Continue praticando, visualizando e **sempre** verificando as dimensões. A matemática é linda quando você entende o que está acontecendo por trás dos números! ✨\n\n---\n\n**Nos vemos no próximo módulo! Bora dominar o NumPy! 🐍📊**"
      ]
    }
  ]
}